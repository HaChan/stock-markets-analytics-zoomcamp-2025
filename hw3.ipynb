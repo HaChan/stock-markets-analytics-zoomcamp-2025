{
 "cells": [
  {
   "cell_type": "code",
   "execution_count": 1,
   "id": "daadb1cd-7705-43df-92e9-ae9c73f81b6a",
   "metadata": {},
   "outputs": [],
   "source": [
    "import numpy as np\n",
    "import pandas as pd\n",
    "import time\n",
    "from datetime import date"
   ]
  },
  {
   "cell_type": "code",
   "execution_count": 2,
   "id": "7756f6cc-0805-4d1a-aa75-d8c2a5715976",
   "metadata": {},
   "outputs": [],
   "source": [
    "df_full = pd.read_parquet(\"content/stocks_df_combined_2025_06_13.parquet.brotli\", )"
   ]
  },
  {
   "cell_type": "code",
   "execution_count": 3,
   "id": "e4462a11-904c-455c-a7df-4b44c6fec000",
   "metadata": {},
   "outputs": [
    {
     "data": {
      "text/plain": [
       "['growth_1d',\n",
       " 'growth_3d',\n",
       " 'growth_7d',\n",
       " 'growth_30d',\n",
       " 'growth_90d',\n",
       " 'growth_365d',\n",
       " 'growth_dax_1d',\n",
       " 'growth_dax_3d',\n",
       " 'growth_dax_7d',\n",
       " 'growth_dax_30d',\n",
       " 'growth_dax_90d',\n",
       " 'growth_dax_365d',\n",
       " 'growth_snp500_1d',\n",
       " 'growth_snp500_3d',\n",
       " 'growth_snp500_7d',\n",
       " 'growth_snp500_30d',\n",
       " 'growth_snp500_90d',\n",
       " 'growth_snp500_365d',\n",
       " 'growth_dji_1d',\n",
       " 'growth_dji_3d',\n",
       " 'growth_dji_7d',\n",
       " 'growth_dji_30d',\n",
       " 'growth_dji_90d',\n",
       " 'growth_dji_365d',\n",
       " 'growth_epi_1d',\n",
       " 'growth_epi_3d',\n",
       " 'growth_epi_7d',\n",
       " 'growth_epi_30d',\n",
       " 'growth_epi_90d',\n",
       " 'growth_epi_365d',\n",
       " 'growth_gold_1d',\n",
       " 'growth_gold_3d',\n",
       " 'growth_gold_7d',\n",
       " 'growth_gold_30d',\n",
       " 'growth_gold_90d',\n",
       " 'growth_gold_365d',\n",
       " 'growth_wti_oil_1d',\n",
       " 'growth_wti_oil_3d',\n",
       " 'growth_wti_oil_7d',\n",
       " 'growth_wti_oil_30d',\n",
       " 'growth_wti_oil_90d',\n",
       " 'growth_wti_oil_365d',\n",
       " 'growth_brent_oil_1d',\n",
       " 'growth_brent_oil_3d',\n",
       " 'growth_brent_oil_7d',\n",
       " 'growth_brent_oil_30d',\n",
       " 'growth_brent_oil_90d',\n",
       " 'growth_brent_oil_365d',\n",
       " 'growth_btc_usd_1d',\n",
       " 'growth_btc_usd_3d',\n",
       " 'growth_btc_usd_7d',\n",
       " 'growth_btc_usd_30d',\n",
       " 'growth_btc_usd_90d',\n",
       " 'growth_btc_usd_365d']"
      ]
     },
     "execution_count": 3,
     "metadata": {},
     "output_type": "execute_result"
    }
   ],
   "source": [
    "GROWTH = [g for g in df_full.keys() if (g.find('growth_')==0)&(g.find('future')<0)]\n",
    "GROWTH"
   ]
  },
  {
   "cell_type": "code",
   "execution_count": 4,
   "id": "ffc3ec8b-3c70-4a08-ab1e-80de78de6d64",
   "metadata": {},
   "outputs": [],
   "source": [
    "OHLCV = ['Open','High','Low','Close','Adj Close_x','Volume']"
   ]
  },
  {
   "cell_type": "code",
   "execution_count": 5,
   "id": "9b35c34b-2bb6-4918-9682-6c51d3f089d9",
   "metadata": {},
   "outputs": [],
   "source": [
    "CATEGORICAL = ['Month', 'Weekday', 'Ticker', 'ticker_type']"
   ]
  },
  {
   "cell_type": "code",
   "execution_count": 6,
   "id": "187d3791-d3e4-4f56-9ec3-4505cdfa2966",
   "metadata": {},
   "outputs": [
    {
     "data": {
      "text/plain": [
       "['growth_future_30d', 'is_positive_growth_30d_future']"
      ]
     },
     "execution_count": 6,
     "metadata": {},
     "output_type": "execute_result"
    }
   ],
   "source": [
    "TO_PREDICT = [g for g in df_full.keys() if (g.find('future')>=0)]\n",
    "TO_PREDICT"
   ]
  },
  {
   "cell_type": "code",
   "execution_count": 7,
   "id": "266446bb-d1ff-439e-b393-78a6bf672866",
   "metadata": {},
   "outputs": [
    {
     "data": {
      "text/plain": [
       "['Year',\n",
       " 'Date',\n",
       " 'index_x',\n",
       " 'index_y',\n",
       " 'index',\n",
       " 'Quarter',\n",
       " 'Adj Close_y',\n",
       " 'Month',\n",
       " 'Weekday',\n",
       " 'Ticker',\n",
       " 'ticker_type',\n",
       " 'Open',\n",
       " 'High',\n",
       " 'Low',\n",
       " 'Close',\n",
       " 'Adj Close_x',\n",
       " 'Volume']"
      ]
     },
     "execution_count": 7,
     "metadata": {},
     "output_type": "execute_result"
    }
   ],
   "source": [
    "TO_DROP = ['Year','Date','index_x', 'index_y', 'index', 'Quarter','Adj Close_y'] + CATEGORICAL + OHLCV\n",
    "TO_DROP"
   ]
  },
  {
   "cell_type": "code",
   "execution_count": 8,
   "id": "940d30ad-38f2-4412-8681-b5ba31af6e5d",
   "metadata": {},
   "outputs": [
    {
     "name": "stderr",
     "output_type": "stream",
     "text": [
      "/tmp/ipykernel_13509/912909511.py:1: RuntimeWarning: divide by zero encountered in log\n",
      "  df_full['ln_volume'] = df_full.Volume.apply(lambda x: np.log(x))\n"
     ]
    }
   ],
   "source": [
    "df_full['ln_volume'] = df_full.Volume.apply(lambda x: np.log(x))"
   ]
  },
  {
   "cell_type": "code",
   "execution_count": 9,
   "id": "0bbf264d-cfc8-4f45-add0-3fe6dea09c3e",
   "metadata": {},
   "outputs": [],
   "source": [
    "CUSTOM_NUMERICAL = ['SMA10', 'SMA20', 'growing_moving_average', 'high_minus_low_relative','volatility', 'ln_volume']"
   ]
  },
  {
   "cell_type": "code",
   "execution_count": 10,
   "id": "8073993a-61af-463f-8d14-44bc255d7c7c",
   "metadata": {},
   "outputs": [],
   "source": [
    "TECHNICAL_INDICATORS = ['adx', 'adxr', 'apo', 'aroon_1','aroon_2', 'aroonosc',\n",
    " 'bop', 'cci', 'cmo','dx', 'macd', 'macdsignal', 'macdhist', 'macd_ext',\n",
    " 'macdsignal_ext', 'macdhist_ext', 'macd_fix', 'macdsignal_fix',\n",
    " 'macdhist_fix', 'mfi', 'minus_di', 'mom', 'plus_di', 'dm', 'ppo',\n",
    " 'roc', 'rocp', 'rocr', 'rocr100', 'rsi', 'slowk', 'slowd', 'fastk',\n",
    " 'fastd', 'fastk_rsi', 'fastd_rsi', 'trix', 'ultosc', 'willr',\n",
    " 'ad', 'adosc', 'obv', 'atr', 'natr', 'ht_dcperiod', 'ht_dcphase',\n",
    " 'ht_phasor_inphase', 'ht_phasor_quadrature', 'ht_sine_sine', 'ht_sine_leadsine',\n",
    " 'ht_trendmod', 'avgprice', 'medprice', 'typprice', 'wclprice']"
   ]
  },
  {
   "cell_type": "code",
   "execution_count": 11,
   "id": "8c50559e-75ef-4bb1-8ab8-04b0c1f698c1",
   "metadata": {},
   "outputs": [
    {
     "name": "stdout",
     "output_type": "stream",
     "text": [
      "Technical patterns count = 61, examples = ['cdl2crows', 'cdl3blackrows', 'cdl3inside', 'cdl3linestrike', 'cdl3outside']\n"
     ]
    }
   ],
   "source": [
    "TECHNICAL_PATTERNS = [g for g in df_full.keys() if g.find('cdl')>=0]\n",
    "print(f'Technical patterns count = {len(TECHNICAL_PATTERNS)}, examples = {TECHNICAL_PATTERNS[0:5]}')"
   ]
  },
  {
   "cell_type": "code",
   "execution_count": 12,
   "id": "fc582d99-4de3-4dbd-8f72-1139b976ce37",
   "metadata": {},
   "outputs": [],
   "source": [
    "MACRO = ['gdppot_us_yoy', 'gdppot_us_qoq', 'cpi_core_yoy', 'cpi_core_mom', 'FEDFUNDS',\n",
    " 'DGS1', 'DGS5', 'DGS10']"
   ]
  },
  {
   "cell_type": "code",
   "execution_count": 13,
   "id": "a0769b44-402b-42ea-9aea-133430de1c4a",
   "metadata": {},
   "outputs": [],
   "source": [
    "NUMERICAL = GROWTH + TECHNICAL_INDICATORS + TECHNICAL_PATTERNS + CUSTOM_NUMERICAL + MACRO"
   ]
  },
  {
   "cell_type": "code",
   "execution_count": 14,
   "id": "e1de00b1-a97b-4340-81fb-82f2008a67e2",
   "metadata": {},
   "outputs": [
    {
     "data": {
      "text/plain": [
       "['Close_x',\n",
       " 'Dividends',\n",
       " 'Stock Splits',\n",
       " 'growth_future_30d',\n",
       " 'is_positive_growth_30d_future',\n",
       " 'Close_y']"
      ]
     },
     "execution_count": 14,
     "metadata": {},
     "output_type": "execute_result"
    }
   ],
   "source": [
    "OTHER = [k for k in df_full.keys() if k not in OHLCV + CATEGORICAL + NUMERICAL + TO_DROP]\n",
    "OTHER"
   ]
  },
  {
   "cell_type": "code",
   "execution_count": 15,
   "id": "c2b29f26-ea55-47dc-810a-81d6c887b8bf",
   "metadata": {},
   "outputs": [
    {
     "data": {
      "text/plain": [
       "33"
      ]
     },
     "execution_count": 15,
     "metadata": {},
     "output_type": "execute_result"
    }
   ],
   "source": [
    "df_full.Ticker.nunique()"
   ]
  },
  {
   "cell_type": "code",
   "execution_count": 16,
   "id": "cfdc3db5-ea97-4d48-83cd-2271cefd53e3",
   "metadata": {},
   "outputs": [
    {
     "name": "stdout",
     "output_type": "stream",
     "text": [
      "<class 'pandas.core.frame.DataFrame'>\n",
      "Index: 191795 entries, 3490 to 5700\n",
      "Columns: 204 entries, Open to ln_volume\n",
      "dtypes: datetime64[ns](3), float64(130), int32(64), int64(5), object(2)\n",
      "memory usage: 253.1+ MB\n"
     ]
    }
   ],
   "source": [
    "df = df_full[df_full.Date>='2000-01-01']\n",
    "df.info()"
   ]
  },
  {
   "cell_type": "code",
   "execution_count": 17,
   "id": "aa0f81ed-1a47-4918-a294-27e86db9ab14",
   "metadata": {},
   "outputs": [
    {
     "data": {
      "text/plain": [
       "['Month', 'Weekday', 'Ticker', 'ticker_type']"
      ]
     },
     "execution_count": 17,
     "metadata": {},
     "output_type": "execute_result"
    }
   ],
   "source": [
    "CATEGORICAL"
   ]
  },
  {
   "cell_type": "code",
   "execution_count": 18,
   "id": "84db79f9-04f2-442b-8405-b6cbb5379a5f",
   "metadata": {},
   "outputs": [
    {
     "data": {
      "text/plain": [
       "3490   2000-01-01\n",
       "3491   2000-01-01\n",
       "3492   2000-01-01\n",
       "3493   2000-01-01\n",
       "3494   2000-01-01\n",
       "          ...    \n",
       "5696   2025-06-01\n",
       "5697   2025-06-01\n",
       "5698   2025-06-01\n",
       "5699   2025-06-01\n",
       "5700   2025-06-01\n",
       "Name: Month, Length: 191795, dtype: datetime64[ns]"
      ]
     },
     "execution_count": 18,
     "metadata": {},
     "output_type": "execute_result"
    }
   ],
   "source": [
    "df.loc[:,'Month']"
   ]
  },
  {
   "cell_type": "code",
   "execution_count": 19,
   "id": "900225c5-bb5d-4257-b1bc-b8e159b03f40",
   "metadata": {},
   "outputs": [
    {
     "name": "stderr",
     "output_type": "stream",
     "text": [
      "/tmp/ipykernel_13509/2159284025.py:1: FutureWarning: Setting an item of incompatible dtype is deprecated and will raise in a future error of pandas. Value '['January' 'January' 'January' ... 'June' 'June' 'June']' has dtype incompatible with datetime64[ns], please explicitly cast to a compatible dtype first.\n",
      "  df.loc[:,'Month'] = df.Month.dt.strftime('%B')\n",
      "/tmp/ipykernel_13509/2159284025.py:2: FutureWarning: Setting an item of incompatible dtype is deprecated and will raise in a future error of pandas. Value '['0' '1' '2' ... '2' '3' '4']' has dtype incompatible with int32, please explicitly cast to a compatible dtype first.\n",
      "  df.loc[:,'Weekday'] = df.Weekday.astype(str)\n"
     ]
    }
   ],
   "source": [
    "df.loc[:,'Month'] = df.Month.dt.strftime('%B')\n",
    "df.loc[:,'Weekday'] = df.Weekday.astype(str)"
   ]
  },
  {
   "cell_type": "markdown",
   "id": "988bceda-9303-4cc4-857b-b257b1e21f8b",
   "metadata": {},
   "source": [
    "### Question 1: Dummies for Month and Week-of-Month\n",
    "\n",
    "**What is the ABSOLUTE CORRELATION VALUE of the most correlated dummy variable <month>_w<week_of_month> with the binary outcome `is_positive_growth_30d_future`?**\n",
    "\n",
    "From the correlation analysis and modeling, you may have observed that October and November are potentially important seasonal months. In this task, you'll go further by generating dummy variables for both the **Month** and **Week-of-Month** (starting from 1). For example, the first week of October should be coded as: `'October_w1'`.\n",
    "\n",
    "Once you've generated these new variables, identify the one with the **highest absolute correlation** with `is_positive_growth_30d_future`, and round the result to **three decimal places**.\n",
    "\n",
    "\n",
    "#### Suggested Steps\n",
    "\n",
    "1. Use [this StackOverflow reference](https://stackoverflow.com/questions/25249033/week-of-a-month-pandas) to compute the week of the month using the following formula:\n",
    "  ```python\n",
    "  (d.day - 1) // 7 + 1\n",
    "  ```\n",
    "2. Create a new string variable that combines the month name and week of the month.\n",
    "Example: 'October_w1', 'November_w2', etc.\n",
    "\n",
    "3. Add the new variable (e.g., `month_wom`) to your set of **categorical features**.\n",
    "\n",
    "   Your updated categorical feature list should include:\n",
    "   - `'Month'`\n",
    "   - `'Weekday'`\n",
    "   - `'Ticker'`\n",
    "   - `'ticker_type'`\n",
    "   - `'month_wom'`\n",
    "\n",
    "4. Use [`pandas.get_dummies()`](https://pandas.pydata.org/pandas-docs/stable/reference/api/pandas.get_dummies.html) to generate dummy variables for all categorical features.\n",
    "\n",
    "   This should result in approximately **115 dummy variables**, including around **60** for the `month_wom` feature (`12 months × up to 5 weeks`).\n",
    "\n",
    "5. Use [`DataFrame.corr()`](https://pandas.pydata.org/docs/reference/api/pandas.DataFrame.corr.html) to compute the correlation between each feature and the target variable `is_positive_growth_30d_future`.\n",
    "\n",
    "6. Filter the correlation results to include only the dummy variables generated from `month_wom`.\n",
    "\n",
    "7. Create a new column named `abs_corr` in the correlation results that stores the **absolute value** of the correlations.\n",
    "\n",
    "8. Sort the correlation results by `abs_corr` in **descending** order.\n",
    "\n",
    "9. Identify and report the **highest absolute correlation value** among the `month_wom` dummy variables, rounded to **three decimal places**.\n",
    "\n",
    "\n",
    "**NOTE**: new dummies will be used as features in the next tasks, please leave them in the dataset.\n",
    "\n",
    "---"
   ]
  },
  {
   "cell_type": "code",
   "execution_count": 21,
   "id": "4103a11e-be21-4001-bd5a-43692c4a2393",
   "metadata": {},
   "outputs": [
    {
     "name": "stderr",
     "output_type": "stream",
     "text": [
      "/tmp/ipykernel_13509/403987377.py:1: SettingWithCopyWarning: \n",
      "A value is trying to be set on a copy of a slice from a DataFrame.\n",
      "Try using .loc[row_indexer,col_indexer] = value instead\n",
      "\n",
      "See the caveats in the documentation: https://pandas.pydata.org/pandas-docs/stable/user_guide/indexing.html#returning-a-view-versus-a-copy\n",
      "  df['month_wom'] = df['Month'] + '_w' + ((df['Date'].dt.day - 1) // 7 + 1).astype(str)\n"
     ]
    }
   ],
   "source": [
    "df['month_wom'] = df['Month'] + '_w' + ((df['Date'].dt.day - 1) // 7 + 1).astype(str)"
   ]
  },
  {
   "cell_type": "code",
   "execution_count": 22,
   "id": "bb8b099a-aedc-4db0-8efc-ae96702d539a",
   "metadata": {},
   "outputs": [
    {
     "data": {
      "text/plain": [
       "3490    January_w1\n",
       "3491    January_w1\n",
       "3492    January_w1\n",
       "3493    January_w1\n",
       "3494    January_w1\n",
       "           ...    \n",
       "5696       June_w2\n",
       "5697       June_w2\n",
       "5698       June_w2\n",
       "5699       June_w2\n",
       "5700       June_w2\n",
       "Name: month_wom, Length: 191795, dtype: object"
      ]
     },
     "execution_count": 22,
     "metadata": {},
     "output_type": "execute_result"
    }
   ],
   "source": [
    "df['month_wom']"
   ]
  },
  {
   "cell_type": "code",
   "execution_count": 23,
   "id": "d3b4da93-2f0b-46ee-8141-e51cc70f4bdf",
   "metadata": {},
   "outputs": [],
   "source": [
    "CATEGORICAL += ['month_wom']"
   ]
  },
  {
   "cell_type": "code",
   "execution_count": 24,
   "id": "9b2b3f74-6daa-409a-8fb9-ee79d6b3ec77",
   "metadata": {},
   "outputs": [
    {
     "data": {
      "text/plain": [
       "['Month', 'Weekday', 'Ticker', 'ticker_type', 'month_wom']"
      ]
     },
     "execution_count": 24,
     "metadata": {},
     "output_type": "execute_result"
    }
   ],
   "source": [
    "CATEGORICAL"
   ]
  },
  {
   "cell_type": "code",
   "execution_count": 25,
   "id": "4497f1da-de90-444d-a3e3-22c6a12c1db7",
   "metadata": {},
   "outputs": [],
   "source": [
    "dummy_variables = pd.get_dummies(df[CATEGORICAL], dtype='int32')"
   ]
  },
  {
   "cell_type": "code",
   "execution_count": 26,
   "id": "942049d2-2b1c-4831-9a35-67fa5ea5c0ec",
   "metadata": {},
   "outputs": [
    {
     "name": "stdout",
     "output_type": "stream",
     "text": [
      "<class 'pandas.core.frame.DataFrame'>\n",
      "Index: 191795 entries, 3490 to 5700\n",
      "Columns: 115 entries, Month_April to month_wom_September_w5\n",
      "dtypes: int32(115)\n",
      "memory usage: 85.6 MB\n"
     ]
    }
   ],
   "source": [
    "dummy_variables.info()"
   ]
  },
  {
   "cell_type": "code",
   "execution_count": 27,
   "id": "509295c7-7a9b-4dc1-b795-df07e5346405",
   "metadata": {},
   "outputs": [],
   "source": [
    "DUMMIES = dummy_variables.keys().to_list()"
   ]
  },
  {
   "cell_type": "code",
   "execution_count": 28,
   "id": "abcaf24d-0696-4d02-b6ed-60213f6cb9a1",
   "metadata": {},
   "outputs": [],
   "source": [
    "df_with_dummies = pd.concat([df, dummy_variables], axis=1)"
   ]
  },
  {
   "cell_type": "code",
   "execution_count": 29,
   "id": "fec7d3d5-4efd-4b0a-9fc9-07b531188cc9",
   "metadata": {},
   "outputs": [
    {
     "name": "stdout",
     "output_type": "stream",
     "text": [
      "<class 'pandas.core.frame.DataFrame'>\n",
      "Index: 191795 entries, 3490 to 5700\n",
      "Columns: 299 entries, growth_1d to month_wom_September_w5\n",
      "dtypes: float64(121), int32(177), int64(1)\n",
      "memory usage: 309.5 MB\n"
     ]
    }
   ],
   "source": [
    "df_with_dummies[NUMERICAL+DUMMIES].info()"
   ]
  },
  {
   "cell_type": "code",
   "execution_count": 30,
   "id": "515019c3-eb4f-407c-9395-526003fb89e6",
   "metadata": {},
   "outputs": [],
   "source": [
    "corr_is_positive_growth_30d_future = df_with_dummies[NUMERICAL+DUMMIES+TO_PREDICT].corr()['is_positive_growth_30d_future']"
   ]
  },
  {
   "cell_type": "code",
   "execution_count": 31,
   "id": "4e19678e-4803-49b4-b93d-069d1910fbfd",
   "metadata": {},
   "outputs": [],
   "source": [
    "corr_is_positive_growth_30d_future_df = pd.DataFrame(corr_is_positive_growth_30d_future)"
   ]
  },
  {
   "cell_type": "code",
   "execution_count": 32,
   "id": "baebf100-56bb-4553-8eda-599b9d4c40e9",
   "metadata": {},
   "outputs": [
    {
     "data": {
      "text/html": [
       "<div>\n",
       "<style scoped>\n",
       "    .dataframe tbody tr th:only-of-type {\n",
       "        vertical-align: middle;\n",
       "    }\n",
       "\n",
       "    .dataframe tbody tr th {\n",
       "        vertical-align: top;\n",
       "    }\n",
       "\n",
       "    .dataframe thead th {\n",
       "        text-align: right;\n",
       "    }\n",
       "</style>\n",
       "<table border=\"1\" class=\"dataframe\">\n",
       "  <thead>\n",
       "    <tr style=\"text-align: right;\">\n",
       "      <th></th>\n",
       "      <th>is_positive_growth_30d_future</th>\n",
       "    </tr>\n",
       "  </thead>\n",
       "  <tbody>\n",
       "  </tbody>\n",
       "</table>\n",
       "</div>"
      ],
      "text/plain": [
       "Empty DataFrame\n",
       "Columns: [is_positive_growth_30d_future]\n",
       "Index: []"
      ]
     },
     "execution_count": 32,
     "metadata": {},
     "output_type": "execute_result"
    }
   ],
   "source": [
    "corr_is_positive_growth_30d_future_df[corr_is_positive_growth_30d_future_df.iloc[:, 0].isin(DUMMIES)]"
   ]
  },
  {
   "cell_type": "code",
   "execution_count": 33,
   "id": "b77901a7-ef1d-470d-b3ad-6a0f06251caa",
   "metadata": {},
   "outputs": [
    {
     "data": {
      "text/plain": [
       "growth_1d                       -0.012772\n",
       "growth_3d                       -0.016461\n",
       "growth_7d                       -0.018023\n",
       "growth_30d                      -0.023682\n",
       "growth_90d                      -0.010986\n",
       "                                   ...   \n",
       "month_wom_September_w3          -0.006012\n",
       "month_wom_September_w4           0.013558\n",
       "month_wom_September_w5           0.012684\n",
       "growth_future_30d                0.696468\n",
       "is_positive_growth_30d_future    1.000000\n",
       "Name: is_positive_growth_30d_future, Length: 301, dtype: float64"
      ]
     },
     "execution_count": 33,
     "metadata": {},
     "output_type": "execute_result"
    }
   ],
   "source": [
    "corr_is_positive_growth_30d_future"
   ]
  },
  {
   "cell_type": "code",
   "execution_count": 34,
   "id": "a3148028-3325-4f0b-ad89-90fac1a96010",
   "metadata": {},
   "outputs": [],
   "source": [
    "abs_corr = corr_is_positive_growth_30d_future_df.loc[corr_is_positive_growth_30d_future_df.index.isin('month_wom_' + df['month_wom'].values)].apply(lambda x: abs(x))"
   ]
  },
  {
   "cell_type": "code",
   "execution_count": 35,
   "id": "6d627be9-8f4b-4d46-b79c-ad2fbb22cb04",
   "metadata": {},
   "outputs": [],
   "source": [
    "abs_corr['is_positive_growth_30d_future_round'] = abs_corr['is_positive_growth_30d_future'].round(3)"
   ]
  },
  {
   "cell_type": "code",
   "execution_count": 36,
   "id": "719ce878-f8d8-4b14-a561-6d689c38688d",
   "metadata": {},
   "outputs": [
    {
     "data": {
      "text/html": [
       "<div>\n",
       "<style scoped>\n",
       "    .dataframe tbody tr th:only-of-type {\n",
       "        vertical-align: middle;\n",
       "    }\n",
       "\n",
       "    .dataframe tbody tr th {\n",
       "        vertical-align: top;\n",
       "    }\n",
       "\n",
       "    .dataframe thead th {\n",
       "        text-align: right;\n",
       "    }\n",
       "</style>\n",
       "<table border=\"1\" class=\"dataframe\">\n",
       "  <thead>\n",
       "    <tr style=\"text-align: right;\">\n",
       "      <th></th>\n",
       "      <th>is_positive_growth_30d_future</th>\n",
       "      <th>is_positive_growth_30d_future_round</th>\n",
       "    </tr>\n",
       "  </thead>\n",
       "  <tbody>\n",
       "    <tr>\n",
       "      <th>month_wom_October_w4</th>\n",
       "      <td>0.024968</td>\n",
       "      <td>0.025</td>\n",
       "    </tr>\n",
       "    <tr>\n",
       "      <th>month_wom_November_w3</th>\n",
       "      <td>0.022097</td>\n",
       "      <td>0.022</td>\n",
       "    </tr>\n",
       "    <tr>\n",
       "      <th>month_wom_November_w2</th>\n",
       "      <td>0.018822</td>\n",
       "      <td>0.019</td>\n",
       "    </tr>\n",
       "    <tr>\n",
       "      <th>month_wom_January_w2</th>\n",
       "      <td>0.018327</td>\n",
       "      <td>0.018</td>\n",
       "    </tr>\n",
       "    <tr>\n",
       "      <th>month_wom_October_w3</th>\n",
       "      <td>0.017734</td>\n",
       "      <td>0.018</td>\n",
       "    </tr>\n",
       "    <tr>\n",
       "      <th>month_wom_January_w5</th>\n",
       "      <td>0.017437</td>\n",
       "      <td>0.017</td>\n",
       "    </tr>\n",
       "    <tr>\n",
       "      <th>month_wom_January_w3</th>\n",
       "      <td>0.016737</td>\n",
       "      <td>0.017</td>\n",
       "    </tr>\n",
       "    <tr>\n",
       "      <th>month_wom_February_w1</th>\n",
       "      <td>0.016700</td>\n",
       "      <td>0.017</td>\n",
       "    </tr>\n",
       "  </tbody>\n",
       "</table>\n",
       "</div>"
      ],
      "text/plain": [
       "                       is_positive_growth_30d_future  \\\n",
       "month_wom_October_w4                        0.024968   \n",
       "month_wom_November_w3                       0.022097   \n",
       "month_wom_November_w2                       0.018822   \n",
       "month_wom_January_w2                        0.018327   \n",
       "month_wom_October_w3                        0.017734   \n",
       "month_wom_January_w5                        0.017437   \n",
       "month_wom_January_w3                        0.016737   \n",
       "month_wom_February_w1                       0.016700   \n",
       "\n",
       "                       is_positive_growth_30d_future_round  \n",
       "month_wom_October_w4                                 0.025  \n",
       "month_wom_November_w3                                0.022  \n",
       "month_wom_November_w2                                0.019  \n",
       "month_wom_January_w2                                 0.018  \n",
       "month_wom_October_w3                                 0.018  \n",
       "month_wom_January_w5                                 0.017  \n",
       "month_wom_January_w3                                 0.017  \n",
       "month_wom_February_w1                                0.017  "
      ]
     },
     "execution_count": 36,
     "metadata": {},
     "output_type": "execute_result"
    }
   ],
   "source": [
    "abs_corr.sort_values(by='is_positive_growth_30d_future', ascending=False).head(8)"
   ]
  },
  {
   "cell_type": "markdown",
   "id": "aa58efcf-cada-4d6b-9cb2-e051a29db8de",
   "metadata": {},
   "source": [
    "### Question 2:  Define New \"Hand\" Rules on Macro and Technical Indicator Variables \n",
    "\n",
    "**What is the precision score for the best of the NEW predictions (`pred3` or `pred4`), rounded to 3 digits after the comma?**\n",
    "\n",
    "In this task, you'll apply insights from the **visualized decision tree (`clf10`)** (see *Code Snippet 5: 1.4.4 Visualisation*) to manually define and evaluate new predictive rules.\n",
    "\n",
    "\n",
    "1. **Define two new 'hand' rules** based on branches that lead to 'positive' predictions in the tree:\n",
    "   - `pred3_manual_dgs10_5`:  \n",
    "     ```python\n",
    "     (DGS10 <= 4) & (DGS5 <= 1)\n",
    "     ```\n",
    "   - `pred4_manual_dgs10_fedfunds`:  \n",
    "     ```python\n",
    "     (DGS10 > 4) & (FEDFUNDS <= 4.795)\n",
    "     ```\n",
    "   > **Hint**: This is not exactly the same condition as in the estimated tree (original: `(DGS10 <= 4.825) & (DGS5 <= 0.745)`; `(DGS10 > 4.825) & (FEDFUNDS <= 4.795)`), since in that case, there are no true positive predictions for both variables. Consider why this might be the case.\n",
    "\n",
    "\n",
    "2. **Extend Code Snippet 3** (Manual \"hand rule\" predictions):  \n",
    "   - Implement and apply the above two rules (`pred3`, `pred4`) to your dataset.\n",
    "   - Add the resulting predictions as new columns in your dataframe (e.g., `new_df`).\n",
    "\n",
    "3. **Compute precision**:\n",
    "   - For the rule that **does** make positive predictions on the TEST set, compute its **precision score**.\n",
    "   - Use standard precision metrics (`TP / (TP + FP)`).\n",
    "   - Round the precision score to **three decimal places**.  \n",
    "     Example: If your result is `0.57897`, your final answer should be: `0.579`.\n",
    "  > **Hint**: This should already be visible in the code output, as the `IS_CORRECT` and `PREDICTIONS` sets should automatically include the new columns.\n",
    "\n",
    "\n",
    "\n",
    "---\n"
   ]
  },
  {
   "cell_type": "code",
   "execution_count": 37,
   "id": "62a417e4-e3a8-4316-87dc-2ce6708aaebe",
   "metadata": {},
   "outputs": [],
   "source": [
    "def temporal_split(df, min_date, max_date, train_prop=0.7, val_prop=0.15, test_prop=0.15):\n",
    "    \"\"\"\n",
    "    Splits a DataFrame into three buckets based on the temporal order of the 'Date' column.\n",
    "\n",
    "    Args:\n",
    "        df (DataFrame): The DataFrame to split.\n",
    "        min_date (str or Timestamp): Minimum date in the DataFrame.\n",
    "        max_date (str or Timestamp): Maximum date in the DataFrame.\n",
    "        train_prop (float): Proportion of data for training set (default: 0.6).\n",
    "        val_prop (float): Proportion of data for validation set (default: 0.2).\n",
    "        test_prop (float): Proportion of data for test set (default: 0.2).\n",
    "\n",
    "    Returns:\n",
    "        DataFrame: The input DataFrame with a new column 'split' indicating the split for each row.\n",
    "    \"\"\"\n",
    "    # Define the date intervals\n",
    "    train_end = min_date + pd.Timedelta(days=(max_date - min_date).days * train_prop)\n",
    "    val_end = train_end + pd.Timedelta(days=(max_date - min_date).days * val_prop)\n",
    "\n",
    "    # Assign split labels based on date ranges\n",
    "    split_labels = []\n",
    "    for date in df['Date']:\n",
    "        if date <= train_end:\n",
    "            split_labels.append('train')\n",
    "        elif date <= val_end:\n",
    "            split_labels.append('validation')\n",
    "        else:\n",
    "            split_labels.append('test')\n",
    "\n",
    "    # Add 'split' column to the DataFrame\n",
    "    df['split'] = split_labels\n",
    "\n",
    "    return df"
   ]
  },
  {
   "cell_type": "code",
   "execution_count": 38,
   "id": "1683c2af-c887-4845-bf4f-551ec19d113d",
   "metadata": {},
   "outputs": [],
   "source": [
    "min_date_df = df_with_dummies.Date.min()\n",
    "max_date_df = df_with_dummies.Date.max()\n",
    "\n",
    "df_with_dummies = temporal_split(df_with_dummies,\n",
    "                                 min_date = min_date_df,\n",
    "                                 max_date = max_date_df)"
   ]
  },
  {
   "cell_type": "code",
   "execution_count": 39,
   "id": "e0940d00-5447-473d-8cc4-5499232fed71",
   "metadata": {},
   "outputs": [
    {
     "data": {
      "text/plain": [
       "split\n",
       "train         0.676399\n",
       "test          0.163758\n",
       "validation    0.159843\n",
       "Name: count, dtype: float64"
      ]
     },
     "execution_count": 39,
     "metadata": {},
     "output_type": "execute_result"
    }
   ],
   "source": [
    "df_with_dummies['split'].value_counts()/len(df_with_dummies)"
   ]
  },
  {
   "cell_type": "code",
   "execution_count": 40,
   "id": "f65f9787-6013-4b7c-95d0-da644e8feef2",
   "metadata": {},
   "outputs": [],
   "source": [
    "new_df = df_with_dummies.copy()"
   ]
  },
  {
   "cell_type": "code",
   "execution_count": 41,
   "id": "12b3faa5-70df-44f0-93bc-abf38eb496a5",
   "metadata": {},
   "outputs": [],
   "source": [
    "new_df['pred0_manual_cci'] = (new_df.cci>200).astype(int)\n",
    "new_df['pred1_manual_prev_g1'] = (new_df.growth_30d>1).astype(int)\n",
    "new_df['pred2_manual_prev_g1_and_snp'] = ((new_df['growth_30d'] > 1) & (new_df['growth_snp500_30d'] > 1)).astype(int)"
   ]
  },
  {
   "cell_type": "code",
   "execution_count": 42,
   "id": "ae398312-90a9-46c8-a0a3-3a5d3e4c71cb",
   "metadata": {},
   "outputs": [],
   "source": [
    "new_df['pred3_manual_dgs10_5'] = ((new_df['DGS10'] <= 4) & (new_df['DGS5'] <= 1)).astype(int)"
   ]
  },
  {
   "cell_type": "code",
   "execution_count": 43,
   "id": "49a87c95-3621-4b7b-a660-2a9350786def",
   "metadata": {},
   "outputs": [],
   "source": [
    "new_df['pred4_manual_dgs10_fedfunds'] = ((new_df['DGS10'] > 4) & (new_df['FEDFUNDS'] <= 4.795)).astype(int)"
   ]
  },
  {
   "cell_type": "code",
   "execution_count": 44,
   "id": "a62fc442-2db6-4059-a642-c93ed23d15f0",
   "metadata": {},
   "outputs": [
    {
     "data": {
      "text/plain": [
       "['pred0_manual_cci',\n",
       " 'pred1_manual_prev_g1',\n",
       " 'pred2_manual_prev_g1_and_snp',\n",
       " 'pred3_manual_dgs10_5',\n",
       " 'pred4_manual_dgs10_fedfunds']"
      ]
     },
     "execution_count": 44,
     "metadata": {},
     "output_type": "execute_result"
    }
   ],
   "source": [
    "PREDICTIONS = [k for k in new_df.keys() if k.startswith('pred')]\n",
    "PREDICTIONS"
   ]
  },
  {
   "cell_type": "code",
   "execution_count": 45,
   "id": "f55913ef-dafd-4478-b488-ff5eb06a1643",
   "metadata": {},
   "outputs": [],
   "source": [
    "for pred in PREDICTIONS:\n",
    "  part1 = pred.split('_')[0] # first prefix before '_'\n",
    "  new_df[f'is_correct_{part1}'] =  (new_df[pred] == new_df.is_positive_growth_30d_future).astype(int)"
   ]
  },
  {
   "cell_type": "code",
   "execution_count": 46,
   "id": "04271bcc-1de9-43de-ac5d-c287532edca7",
   "metadata": {},
   "outputs": [
    {
     "data": {
      "text/plain": [
       "['is_correct_pred0',\n",
       " 'is_correct_pred1',\n",
       " 'is_correct_pred2',\n",
       " 'is_correct_pred3',\n",
       " 'is_correct_pred4']"
      ]
     },
     "execution_count": 46,
     "metadata": {},
     "output_type": "execute_result"
    }
   ],
   "source": [
    "IS_CORRECT =  [k for k in new_df.keys() if k.startswith('is_correct_')]\n",
    "IS_CORRECT"
   ]
  },
  {
   "cell_type": "code",
   "execution_count": 47,
   "id": "4ee3fda8-b0fe-4616-be6b-b12ca7281c44",
   "metadata": {},
   "outputs": [
    {
     "data": {
      "text/html": [
       "<div>\n",
       "<style scoped>\n",
       "    .dataframe tbody tr th:only-of-type {\n",
       "        vertical-align: middle;\n",
       "    }\n",
       "\n",
       "    .dataframe tbody tr th {\n",
       "        vertical-align: top;\n",
       "    }\n",
       "\n",
       "    .dataframe thead th {\n",
       "        text-align: right;\n",
       "    }\n",
       "</style>\n",
       "<table border=\"1\" class=\"dataframe\">\n",
       "  <thead>\n",
       "    <tr style=\"text-align: right;\">\n",
       "      <th></th>\n",
       "      <th>pred0_manual_cci</th>\n",
       "      <th>pred1_manual_prev_g1</th>\n",
       "      <th>pred2_manual_prev_g1_and_snp</th>\n",
       "      <th>pred3_manual_dgs10_5</th>\n",
       "      <th>pred4_manual_dgs10_fedfunds</th>\n",
       "      <th>is_correct_pred0</th>\n",
       "      <th>is_correct_pred1</th>\n",
       "      <th>is_correct_pred2</th>\n",
       "      <th>is_correct_pred3</th>\n",
       "      <th>is_correct_pred4</th>\n",
       "      <th>is_positive_growth_30d_future</th>\n",
       "    </tr>\n",
       "  </thead>\n",
       "  <tbody>\n",
       "    <tr>\n",
       "      <th>5707</th>\n",
       "      <td>0</td>\n",
       "      <td>0</td>\n",
       "      <td>0</td>\n",
       "      <td>0</td>\n",
       "      <td>1</td>\n",
       "      <td>0</td>\n",
       "      <td>0</td>\n",
       "      <td>0</td>\n",
       "      <td>0</td>\n",
       "      <td>1</td>\n",
       "      <td>1</td>\n",
       "    </tr>\n",
       "    <tr>\n",
       "      <th>8253</th>\n",
       "      <td>0</td>\n",
       "      <td>1</td>\n",
       "      <td>0</td>\n",
       "      <td>0</td>\n",
       "      <td>0</td>\n",
       "      <td>0</td>\n",
       "      <td>1</td>\n",
       "      <td>0</td>\n",
       "      <td>0</td>\n",
       "      <td>0</td>\n",
       "      <td>1</td>\n",
       "    </tr>\n",
       "    <tr>\n",
       "      <th>1703</th>\n",
       "      <td>0</td>\n",
       "      <td>0</td>\n",
       "      <td>0</td>\n",
       "      <td>0</td>\n",
       "      <td>0</td>\n",
       "      <td>0</td>\n",
       "      <td>0</td>\n",
       "      <td>0</td>\n",
       "      <td>0</td>\n",
       "      <td>0</td>\n",
       "      <td>1</td>\n",
       "    </tr>\n",
       "    <tr>\n",
       "      <th>2330</th>\n",
       "      <td>0</td>\n",
       "      <td>0</td>\n",
       "      <td>0</td>\n",
       "      <td>0</td>\n",
       "      <td>0</td>\n",
       "      <td>1</td>\n",
       "      <td>1</td>\n",
       "      <td>1</td>\n",
       "      <td>1</td>\n",
       "      <td>1</td>\n",
       "      <td>0</td>\n",
       "    </tr>\n",
       "    <tr>\n",
       "      <th>1960</th>\n",
       "      <td>0</td>\n",
       "      <td>0</td>\n",
       "      <td>0</td>\n",
       "      <td>0</td>\n",
       "      <td>0</td>\n",
       "      <td>0</td>\n",
       "      <td>0</td>\n",
       "      <td>0</td>\n",
       "      <td>0</td>\n",
       "      <td>0</td>\n",
       "      <td>1</td>\n",
       "    </tr>\n",
       "  </tbody>\n",
       "</table>\n",
       "</div>"
      ],
      "text/plain": [
       "      pred0_manual_cci  pred1_manual_prev_g1  pred2_manual_prev_g1_and_snp  \\\n",
       "5707                 0                     0                             0   \n",
       "8253                 0                     1                             0   \n",
       "1703                 0                     0                             0   \n",
       "2330                 0                     0                             0   \n",
       "1960                 0                     0                             0   \n",
       "\n",
       "      pred3_manual_dgs10_5  pred4_manual_dgs10_fedfunds  is_correct_pred0  \\\n",
       "5707                     0                            1                 0   \n",
       "8253                     0                            0                 0   \n",
       "1703                     0                            0                 0   \n",
       "2330                     0                            0                 1   \n",
       "1960                     0                            0                 0   \n",
       "\n",
       "      is_correct_pred1  is_correct_pred2  is_correct_pred3  is_correct_pred4  \\\n",
       "5707                 0                 0                 0                 1   \n",
       "8253                 1                 0                 0                 0   \n",
       "1703                 0                 0                 0                 0   \n",
       "2330                 1                 1                 1                 1   \n",
       "1960                 0                 0                 0                 0   \n",
       "\n",
       "      is_positive_growth_30d_future  \n",
       "5707                              1  \n",
       "8253                              1  \n",
       "1703                              1  \n",
       "2330                              0  \n",
       "1960                              1  "
      ]
     },
     "execution_count": 47,
     "metadata": {},
     "output_type": "execute_result"
    }
   ],
   "source": [
    "new_df[PREDICTIONS+IS_CORRECT+['is_positive_growth_30d_future']].sample(5)"
   ]
  },
  {
   "cell_type": "code",
   "execution_count": 48,
   "id": "671657b3-0f8f-4767-be17-46ae163072cf",
   "metadata": {},
   "outputs": [
    {
     "data": {
      "text/plain": [
       "31408"
      ]
     },
     "execution_count": 48,
     "metadata": {},
     "output_type": "execute_result"
    }
   ],
   "source": [
    "len(new_df[new_df.split=='test'])"
   ]
  },
  {
   "cell_type": "code",
   "execution_count": 49,
   "id": "1bfff8bb-13c8-4a16-bee1-b9a9d0946b4c",
   "metadata": {},
   "outputs": [
    {
     "name": "stdout",
     "output_type": "stream",
     "text": [
      "Prediction column:pred0_manual_cci , is_correct_column: is_correct_pred0\n",
      "is_correct_pred0\n",
      "1    443\n",
      "0    351\n",
      "Name: count, dtype: int64\n",
      "is_correct_pred0\n",
      "1    0.558\n",
      "0    0.442\n",
      "Name: count, dtype: float64\n",
      "---------\n",
      "Prediction column:pred1_manual_prev_g1 , is_correct_column: is_correct_pred1\n",
      "is_correct_pred1\n",
      "1    9748\n",
      "0    8243\n",
      "Name: count, dtype: int64\n",
      "is_correct_pred1\n",
      "1    0.542\n",
      "0    0.458\n",
      "Name: count, dtype: float64\n",
      "---------\n",
      "Prediction column:pred2_manual_prev_g1_and_snp , is_correct_column: is_correct_pred2\n",
      "is_correct_pred2\n",
      "1    6984\n",
      "0    6383\n",
      "Name: count, dtype: int64\n",
      "is_correct_pred2\n",
      "1    0.522\n",
      "0    0.478\n",
      "Name: count, dtype: float64\n",
      "---------\n",
      "Prediction column:pred3_manual_dgs10_5 , is_correct_column: is_correct_pred3\n",
      "is_correct_pred3\n",
      "1    578\n",
      "0    419\n",
      "Name: count, dtype: int64\n",
      "is_correct_pred3\n",
      "1    0.58\n",
      "0    0.42\n",
      "Name: count, dtype: float64\n",
      "---------\n",
      "Prediction column:pred4_manual_dgs10_fedfunds , is_correct_column: is_correct_pred4\n",
      "is_correct_pred4\n",
      "0    3020\n",
      "1    2640\n",
      "Name: count, dtype: int64\n",
      "is_correct_pred4\n",
      "0    0.534\n",
      "1    0.466\n",
      "Name: count, dtype: float64\n",
      "---------\n"
     ]
    }
   ],
   "source": [
    "# define \"Precision\" for ALL predictions on a Test dataset (~4 last years of trading)\n",
    "for i,column in enumerate(IS_CORRECT):\n",
    "  prediction_column = PREDICTIONS[i]\n",
    "  is_correct_column = column\n",
    "  filter = (new_df.split=='test') & (new_df[prediction_column]==1)\n",
    "  print(f'Prediction column:{prediction_column} , is_correct_column: {is_correct_column}')\n",
    "  print(new_df[filter][is_correct_column].value_counts())\n",
    "  print((new_df[filter][is_correct_column].value_counts()/len(new_df[filter])).round(3))\n",
    "\n",
    "  print('---------')"
   ]
  },
  {
   "cell_type": "markdown",
   "id": "399ca38a-485b-48a5-a71d-927169f926b7",
   "metadata": {},
   "source": [
    "### Question 3: Unique Correct Predictions from a 10-Level Decision Tree Classifier (`pred5_clf_10`)\n",
    "\n",
    "**What is the total number of records in the TEST dataset where the new prediction `pred5_clf_10` is correct, while all 'hand' rule predictions (`pred0` to `pred4`) are incorrect?**\n",
    "\n",
    "\n",
    "To ensure reproducibility, please include the following parameter in the Decision Tree Classifier:\n",
    "```python\n",
    "clf = DecisionTreeClassifier(max_depth=max_depth, random_state=42) \n",
    "```\n",
    "\n",
    "\n",
    "#### Step 1: Train the Decision Tree and Generate Predictions\n",
    "\n",
    "- Initialize a Decision Tree Classifier with a maximum depth of 10 and set `random_state=42` for reproducibility.\n",
    "- Fit the classifier on the combined TRAIN and VALIDATION datasets.\n",
    "- Use the trained model to predict on the entire dataset (TRAIN + VALIDATION + TEST).\n",
    "- Store these predictions in a new column named `pred5_clf_10` within your main dataframe.\n",
    "- **Hint**: When predicting on the entire dataset, it's easy to join the predictions with the full DataFrame, since the number of records and their order remain the same. You will need to define X_all and y_all and apply the same cleaning steps used previously for X_train, y_train, X_test, and y_test. This makes it straightforward to define a new column, for example:  \n",
    "  ```python\n",
    "  df['pred5_clf_10'] = <predictions vector from clf10.predict(X_all)>\n",
    "\n",
    "#### Step 2: Identify Unique Correct Predictions by `pred5_clf_10`\n",
    "\n",
    "- Create a new boolean column, `only_pred5_is_correct`, that is `True` only when:\n",
    "  - The prediction from `pred5_clf_10` is correct (i.e., matches the true label).\n",
    "  - All other hand rule predictions (`pred0` through `pred4`) are incorrect.\n",
    "\n",
    "#### Step 3: Count Unique Correct Predictions on the TEST Set\n",
    "\n",
    "- Convert the `only_pred5_is_correct` column from boolean to integer.\n",
    "- Filter the dataframe for records belonging to the TEST dataset.\n",
    "- Count how many records in the TEST set have `only_pred5_is_correct` equal to 1.\n",
    "- Report this count as your final answer.\n",
    "\n",
    "### Advanced (Optional)\n",
    "\n",
    "- To generalize this for many prediction columns (e.g., `pred0` to `pred99`), define a function that can be applied to an entire dataframe row.\n",
    "- This function should identify whether a specific prediction (`predX`) is uniquely correct (correct while all others are incorrect).\n",
    "- This approach avoids hardcoding conditions for each predictor and scales easily.\n",
    "- For examples of how to apply functions to rows in pandas, see this helpful resource:  \n",
    "  [Pandas apply function to every row](https://sparkbyexamples.com/pandas/pandas-apply-function-to-every-row/)\n",
    "\n",
    "---\n"
   ]
  },
  {
   "cell_type": "code",
   "execution_count": 50,
   "id": "ded8111f-9398-49f7-807a-e4513168f13a",
   "metadata": {},
   "outputs": [],
   "source": [
    "from sklearn.impute import SimpleImputer\n",
    "from sklearn.tree import DecisionTreeClassifier\n",
    "from sklearn.metrics import accuracy_score\n",
    "from sklearn.metrics import precision_score"
   ]
  },
  {
   "cell_type": "code",
   "execution_count": 51,
   "id": "532b96b5-bdcc-48e6-94a1-5be2124252ed",
   "metadata": {},
   "outputs": [
    {
     "name": "stdout",
     "output_type": "stream",
     "text": [
      "length: X_train (160387, 302),  X_test (31408, 302)\n"
     ]
    }
   ],
   "source": [
    "features_list = NUMERICAL+DUMMIES\n",
    "to_predict = 'is_positive_growth_30d_future'\n",
    "\n",
    "train_df = new_df[new_df.split.isin(['train','validation'])].copy(deep=True)\n",
    "test_df = new_df[new_df.split.isin(['test'])].copy(deep=True)\n",
    "\n",
    "# ONLY numerical Separate features and target variable for training and testing sets\n",
    "# need Date and Ticker later when merging predictions to the dataset\n",
    "X_train = train_df[features_list+[to_predict,'Date','Ticker']]\n",
    "X_test = test_df[features_list+[to_predict,'Date','Ticker']]\n",
    "\n",
    "print(f'length: X_train {X_train.shape},  X_test {X_test.shape}')\n"
   ]
  },
  {
   "cell_type": "code",
   "execution_count": 52,
   "id": "ef248b62-1743-42c0-92ab-e9cdf7c69daf",
   "metadata": {},
   "outputs": [],
   "source": [
    "X_full = new_df[features_list+[to_predict,'Date','Ticker']].copy(deep=True)"
   ]
  },
  {
   "cell_type": "code",
   "execution_count": 53,
   "id": "f08c3ee7-5ebd-4b62-af1c-97117e8f88ac",
   "metadata": {},
   "outputs": [
    {
     "name": "stdout",
     "output_type": "stream",
     "text": [
      "length: X_train_imputed (160387, 302),  X_test_imputed (31408, 302)\n"
     ]
    }
   ],
   "source": [
    "pd.options.mode.chained_assignment = None  # default='warn'\n",
    "\n",
    "X_train.replace([np.inf, -np.inf], np.nan, inplace=True)\n",
    "X_test.replace([np.inf, -np.inf], np.nan, inplace=True)\n",
    "\n",
    "# Need to fill NaNs somehow\n",
    "X_train.fillna(0, inplace=True)\n",
    "X_test.fillna(0, inplace=True)\n",
    "\n",
    "print(f'length: X_train_imputed {X_train.shape},  X_test_imputed {X_test.shape}')"
   ]
  },
  {
   "cell_type": "code",
   "execution_count": 54,
   "id": "7e6e8a9e-18ab-4799-b43d-4eccec41e33a",
   "metadata": {},
   "outputs": [
    {
     "name": "stdout",
     "output_type": "stream",
     "text": [
      "length: X_full (191795, 302)\n"
     ]
    }
   ],
   "source": [
    "X_full.replace([np.inf, -np.inf], np.nan, inplace=True)\n",
    "X_full.fillna(0, inplace=True)\n",
    "print(f'length: X_full {X_full.shape}')"
   ]
  },
  {
   "cell_type": "code",
   "execution_count": 55,
   "id": "c6721ad1-4bdc-4cb6-b812-a40ea75f850b",
   "metadata": {},
   "outputs": [],
   "source": [
    "X_train_imputed = X_train\n",
    "X_test_imputed = X_test"
   ]
  },
  {
   "cell_type": "code",
   "execution_count": 56,
   "id": "ec301b41-1f6d-4028-93f7-e09cf22859a2",
   "metadata": {},
   "outputs": [
    {
     "name": "stdout",
     "output_type": "stream",
     "text": [
      "length: X_train_imputed (160387, 302),  X_test_imputed (31408, 302)\n"
     ]
    }
   ],
   "source": [
    "print(f'length: X_train_imputed {X_train_imputed.shape},  X_test_imputed {X_test_imputed.shape}')"
   ]
  },
  {
   "cell_type": "code",
   "execution_count": 57,
   "id": "ef63d8ee-ef8b-4015-8f6f-afecf8e514b1",
   "metadata": {},
   "outputs": [],
   "source": [
    "y_train = X_train_imputed[to_predict]\n",
    "y_test = X_test_imputed[to_predict]\n",
    "\n",
    "# remove y_train, y_test from X_ dataframes\n",
    "del X_train_imputed[to_predict]\n",
    "del X_test_imputed[to_predict]"
   ]
  },
  {
   "cell_type": "code",
   "execution_count": 58,
   "id": "18921ec5-34a6-47ae-a6f5-1fb1fa71090f",
   "metadata": {},
   "outputs": [],
   "source": [
    "y_full = X_full[to_predict]\n",
    "del X_full[to_predict]"
   ]
  },
  {
   "cell_type": "code",
   "execution_count": 59,
   "id": "f498fbec-0ccd-4889-91ac-12a5db3e540a",
   "metadata": {},
   "outputs": [],
   "source": [
    "def fit_decision_tree(X, y, max_depth):\n",
    "  clf = DecisionTreeClassifier(max_depth=max_depth, random_state=42)\n",
    "  clf.fit(X, y)\n",
    "  return clf, X.columns"
   ]
  },
  {
   "cell_type": "code",
   "execution_count": 60,
   "id": "56fd0865-c99d-408a-9090-02f1985d6d28",
   "metadata": {},
   "outputs": [
    {
     "name": "stdout",
     "output_type": "stream",
     "text": [
      "CPU times: user 17.4 s, sys: 508 ms, total: 17.9 s\n",
      "Wall time: 17.9 s\n"
     ]
    }
   ],
   "source": [
    "%%time\n",
    "\n",
    "clf_10, train_columns = fit_decision_tree(X=X_train_imputed.drop(['Date','Ticker'],axis=1),\n",
    "                           y=y_train,\n",
    "                           max_depth=10)"
   ]
  },
  {
   "cell_type": "code",
   "execution_count": 61,
   "id": "f9c8a731-5991-4f50-91b0-e4a203b2c8ce",
   "metadata": {},
   "outputs": [],
   "source": [
    "def predict_decision_tree(clf:DecisionTreeClassifier, df_X:pd.DataFrame, y_true: pd.Series):\n",
    "  # Predict the target variable on the test data\n",
    "  y_pred = clf.predict(df_X)\n",
    "\n",
    "  max_depth = clf.tree_.max_depth\n",
    "  # Print the maximum depth\n",
    "  print(\"Maximum depth of the decision tree:\", max_depth)\n",
    "\n",
    "  # Calculate the accuracy/precision of the model\n",
    "  accuracy = accuracy_score(y_true, y_pred)\n",
    "  precision = precision_score(y_true, y_pred)\n",
    "  print(f'Accuracy ={accuracy}, precision = {precision}')\n",
    "\n",
    "  # resulting df\n",
    "  result_df = pd.concat([df_X, y_true, pd.Series(y_pred, index=df_X.index, name='pred_')], axis=1)\n",
    "\n",
    "  return result_df, accuracy, precision"
   ]
  },
  {
   "cell_type": "code",
   "execution_count": 62,
   "id": "34793346-6994-4502-ada4-867603f49e39",
   "metadata": {},
   "outputs": [
    {
     "name": "stdout",
     "output_type": "stream",
     "text": [
      "Maximum depth of the decision tree: 10\n",
      "Accuracy =0.6958314867436586, precision = 0.6950666328571831\n"
     ]
    }
   ],
   "source": [
    "pred10, _, _ = predict_decision_tree(clf_10, X_full.drop(['Date','Ticker'],axis=1), y_full)"
   ]
  },
  {
   "cell_type": "code",
   "execution_count": 63,
   "id": "75aa16bc-4cde-4d76-b67f-e2cf5732ca48",
   "metadata": {},
   "outputs": [
    {
     "data": {
      "text/plain": [
       "pred_\n",
       "1    141972\n",
       "0     49823\n",
       "Name: count, dtype: int64"
      ]
     },
     "execution_count": 63,
     "metadata": {},
     "output_type": "execute_result"
    }
   ],
   "source": [
    "pred10.pred_.value_counts()"
   ]
  },
  {
   "cell_type": "code",
   "execution_count": 68,
   "id": "6fbe11b7-642f-445d-b906-a2e997d12084",
   "metadata": {},
   "outputs": [
    {
     "name": "stdout",
     "output_type": "stream",
     "text": [
      "Maximum depth of the decision tree: 10\n",
      "Accuracy =0.5571510443199185, precision = 0.5889278426037361\n"
     ]
    }
   ],
   "source": [
    "pred10_test, _, _ = predict_decision_tree(clf_10, X_test_imputed.drop(['Date','Ticker'],axis=1), y_test)"
   ]
  },
  {
   "cell_type": "code",
   "execution_count": 69,
   "id": "74e5f604-d41f-4e34-958b-a9ce022efdd2",
   "metadata": {},
   "outputs": [
    {
     "data": {
      "text/plain": [
       "pred_\n",
       "1    19111\n",
       "0    12297\n",
       "Name: count, dtype: int64"
      ]
     },
     "execution_count": 69,
     "metadata": {},
     "output_type": "execute_result"
    }
   ],
   "source": [
    "pred10_test.pred_.value_counts()"
   ]
  },
  {
   "cell_type": "code",
   "execution_count": 83,
   "id": "3c936032-a710-4633-95ab-b4cb4d3d1b8f",
   "metadata": {},
   "outputs": [],
   "source": [
    "test_df['pred5_clf_10'] = pred10_test['pred_']"
   ]
  },
  {
   "cell_type": "code",
   "execution_count": 88,
   "id": "6af14ca0-3099-443b-945c-8fc55b32a6f8",
   "metadata": {},
   "outputs": [],
   "source": [
    "test_df['only_pred5_is_correct'] = (test_df['pred5_clf_10'] == test_df[to_predict] & (test_df[IS_CORRECT] == 0).all(axis=1)).astype(int)"
   ]
  },
  {
   "cell_type": "code",
   "execution_count": 87,
   "id": "9cd4e717-a465-4498-bb09-8459dc086144",
   "metadata": {},
   "outputs": [
    {
     "data": {
      "text/plain": [
       "['is_correct_pred0',\n",
       " 'is_correct_pred1',\n",
       " 'is_correct_pred2',\n",
       " 'is_correct_pred3',\n",
       " 'is_correct_pred4']"
      ]
     },
     "execution_count": 87,
     "metadata": {},
     "output_type": "execute_result"
    }
   ],
   "source": [
    "IS_CORRECT"
   ]
  },
  {
   "cell_type": "code",
   "execution_count": 90,
   "id": "d2b5fae8-d56a-4b79-a7e8-166de7c94066",
   "metadata": {},
   "outputs": [
    {
     "data": {
      "text/plain": [
       "only_pred5_is_correct\n",
       "0    17459\n",
       "1    13949\n",
       "Name: count, dtype: int64"
      ]
     },
     "execution_count": 90,
     "metadata": {},
     "output_type": "execute_result"
    }
   ],
   "source": [
    "test_df['only_pred5_is_correct'].value_counts()"
   ]
  },
  {
   "cell_type": "code",
   "execution_count": 91,
   "id": "50e8bd19-ef2e-4caf-8810-b22301e282fe",
   "metadata": {},
   "outputs": [],
   "source": [
    "new_df['pred5_clf_10'] = pred10['pred_']"
   ]
  },
  {
   "cell_type": "code",
   "execution_count": 92,
   "id": "d8dc456a-2430-4ab1-b9c8-41f1cb2903fd",
   "metadata": {},
   "outputs": [
    {
     "data": {
      "text/plain": [
       "['pred0_manual_cci',\n",
       " 'pred1_manual_prev_g1',\n",
       " 'pred2_manual_prev_g1_and_snp',\n",
       " 'pred3_manual_dgs10_5',\n",
       " 'pred4_manual_dgs10_fedfunds']"
      ]
     },
     "execution_count": 92,
     "metadata": {},
     "output_type": "execute_result"
    }
   ],
   "source": [
    "PREDICTIONS"
   ]
  },
  {
   "cell_type": "code",
   "execution_count": 120,
   "id": "63e05c0b-21c8-41a5-9a90-3a29da6e8982",
   "metadata": {},
   "outputs": [],
   "source": [
    "new_df['only_pred5_is_correct'] = ((new_df['pred5_clf_10'] == new_df['is_positive_growth_30d_future']) & (new_df[IS_CORRECT] == 0).all(axis=1)).astype(int)"
   ]
  },
  {
   "cell_type": "code",
   "execution_count": 121,
   "id": "c1cf4f6c-d230-4905-8bdd-8198e5be951a",
   "metadata": {},
   "outputs": [
    {
     "data": {
      "text/plain": [
       "only_pred5_is_correct\n",
       "0    165145\n",
       "1     26650\n",
       "Name: count, dtype: int64"
      ]
     },
     "execution_count": 121,
     "metadata": {},
     "output_type": "execute_result"
    }
   ],
   "source": [
    "new_df[\"only_pred5_is_correct\"].value_counts()"
   ]
  },
  {
   "cell_type": "code",
   "execution_count": 116,
   "id": "cb7156fb-5727-4fa1-8cd6-400042a14120",
   "metadata": {},
   "outputs": [
    {
     "data": {
      "text/plain": [
       "'is_positive_growth_30d_future'"
      ]
     },
     "execution_count": 116,
     "metadata": {},
     "output_type": "execute_result"
    }
   ],
   "source": [
    "to_predict"
   ]
  },
  {
   "cell_type": "code",
   "execution_count": 117,
   "id": "d95f4d6f-174c-4188-8fd9-87591f20a5f0",
   "metadata": {},
   "outputs": [
    {
     "data": {
      "text/html": [
       "<div>\n",
       "<style scoped>\n",
       "    .dataframe tbody tr th:only-of-type {\n",
       "        vertical-align: middle;\n",
       "    }\n",
       "\n",
       "    .dataframe tbody tr th {\n",
       "        vertical-align: top;\n",
       "    }\n",
       "\n",
       "    .dataframe thead th {\n",
       "        text-align: right;\n",
       "    }\n",
       "</style>\n",
       "<table border=\"1\" class=\"dataframe\">\n",
       "  <thead>\n",
       "    <tr style=\"text-align: right;\">\n",
       "      <th></th>\n",
       "      <th>pred0_manual_cci</th>\n",
       "      <th>pred1_manual_prev_g1</th>\n",
       "      <th>pred2_manual_prev_g1_and_snp</th>\n",
       "      <th>pred3_manual_dgs10_5</th>\n",
       "      <th>pred4_manual_dgs10_fedfunds</th>\n",
       "      <th>pred5_clf_10</th>\n",
       "      <th>only_pred5_is_correct</th>\n",
       "    </tr>\n",
       "  </thead>\n",
       "  <tbody>\n",
       "    <tr>\n",
       "      <th>3490</th>\n",
       "      <td>0</td>\n",
       "      <td>1</td>\n",
       "      <td>1</td>\n",
       "      <td>0</td>\n",
       "      <td>0</td>\n",
       "      <td>0</td>\n",
       "      <td>1</td>\n",
       "    </tr>\n",
       "    <tr>\n",
       "      <th>3491</th>\n",
       "      <td>0</td>\n",
       "      <td>1</td>\n",
       "      <td>0</td>\n",
       "      <td>0</td>\n",
       "      <td>0</td>\n",
       "      <td>0</td>\n",
       "      <td>1</td>\n",
       "    </tr>\n",
       "    <tr>\n",
       "      <th>3492</th>\n",
       "      <td>0</td>\n",
       "      <td>1</td>\n",
       "      <td>0</td>\n",
       "      <td>0</td>\n",
       "      <td>0</td>\n",
       "      <td>0</td>\n",
       "      <td>1</td>\n",
       "    </tr>\n",
       "    <tr>\n",
       "      <th>3493</th>\n",
       "      <td>0</td>\n",
       "      <td>1</td>\n",
       "      <td>0</td>\n",
       "      <td>0</td>\n",
       "      <td>0</td>\n",
       "      <td>0</td>\n",
       "      <td>1</td>\n",
       "    </tr>\n",
       "    <tr>\n",
       "      <th>3494</th>\n",
       "      <td>0</td>\n",
       "      <td>1</td>\n",
       "      <td>1</td>\n",
       "      <td>0</td>\n",
       "      <td>0</td>\n",
       "      <td>0</td>\n",
       "      <td>1</td>\n",
       "    </tr>\n",
       "    <tr>\n",
       "      <th>...</th>\n",
       "      <td>...</td>\n",
       "      <td>...</td>\n",
       "      <td>...</td>\n",
       "      <td>...</td>\n",
       "      <td>...</td>\n",
       "      <td>...</td>\n",
       "      <td>...</td>\n",
       "    </tr>\n",
       "    <tr>\n",
       "      <th>5696</th>\n",
       "      <td>0</td>\n",
       "      <td>1</td>\n",
       "      <td>1</td>\n",
       "      <td>0</td>\n",
       "      <td>1</td>\n",
       "      <td>0</td>\n",
       "      <td>1</td>\n",
       "    </tr>\n",
       "    <tr>\n",
       "      <th>5697</th>\n",
       "      <td>0</td>\n",
       "      <td>1</td>\n",
       "      <td>1</td>\n",
       "      <td>0</td>\n",
       "      <td>1</td>\n",
       "      <td>1</td>\n",
       "      <td>0</td>\n",
       "    </tr>\n",
       "    <tr>\n",
       "      <th>5698</th>\n",
       "      <td>0</td>\n",
       "      <td>1</td>\n",
       "      <td>1</td>\n",
       "      <td>0</td>\n",
       "      <td>1</td>\n",
       "      <td>1</td>\n",
       "      <td>0</td>\n",
       "    </tr>\n",
       "    <tr>\n",
       "      <th>5699</th>\n",
       "      <td>0</td>\n",
       "      <td>1</td>\n",
       "      <td>1</td>\n",
       "      <td>0</td>\n",
       "      <td>1</td>\n",
       "      <td>1</td>\n",
       "      <td>0</td>\n",
       "    </tr>\n",
       "    <tr>\n",
       "      <th>5700</th>\n",
       "      <td>0</td>\n",
       "      <td>1</td>\n",
       "      <td>1</td>\n",
       "      <td>0</td>\n",
       "      <td>1</td>\n",
       "      <td>1</td>\n",
       "      <td>0</td>\n",
       "    </tr>\n",
       "  </tbody>\n",
       "</table>\n",
       "<p>191795 rows × 7 columns</p>\n",
       "</div>"
      ],
      "text/plain": [
       "      pred0_manual_cci  pred1_manual_prev_g1  pred2_manual_prev_g1_and_snp  \\\n",
       "3490                 0                     1                             1   \n",
       "3491                 0                     1                             0   \n",
       "3492                 0                     1                             0   \n",
       "3493                 0                     1                             0   \n",
       "3494                 0                     1                             1   \n",
       "...                ...                   ...                           ...   \n",
       "5696                 0                     1                             1   \n",
       "5697                 0                     1                             1   \n",
       "5698                 0                     1                             1   \n",
       "5699                 0                     1                             1   \n",
       "5700                 0                     1                             1   \n",
       "\n",
       "      pred3_manual_dgs10_5  pred4_manual_dgs10_fedfunds  pred5_clf_10  \\\n",
       "3490                     0                            0             0   \n",
       "3491                     0                            0             0   \n",
       "3492                     0                            0             0   \n",
       "3493                     0                            0             0   \n",
       "3494                     0                            0             0   \n",
       "...                    ...                          ...           ...   \n",
       "5696                     0                            1             0   \n",
       "5697                     0                            1             1   \n",
       "5698                     0                            1             1   \n",
       "5699                     0                            1             1   \n",
       "5700                     0                            1             1   \n",
       "\n",
       "      only_pred5_is_correct  \n",
       "3490                      1  \n",
       "3491                      1  \n",
       "3492                      1  \n",
       "3493                      1  \n",
       "3494                      1  \n",
       "...                     ...  \n",
       "5696                      1  \n",
       "5697                      0  \n",
       "5698                      0  \n",
       "5699                      0  \n",
       "5700                      0  \n",
       "\n",
       "[191795 rows x 7 columns]"
      ]
     },
     "execution_count": 117,
     "metadata": {},
     "output_type": "execute_result"
    }
   ],
   "source": [
    "new_df[PREDICTIONS + ['pred5_clf_10', 'only_pred5_is_correct']] "
   ]
  },
  {
   "cell_type": "code",
   "execution_count": 122,
   "id": "14e8d8bb-4ebb-45ce-b817-7743e421488d",
   "metadata": {},
   "outputs": [],
   "source": [
    "new_df['only_pred5_is_correct'] = ((new_df.pred5_clf_10 == new_df.is_positive_growth_30d_future) & (new_df[IS_CORRECT] == 0).all(axis=1)).astype(int)"
   ]
  },
  {
   "cell_type": "code",
   "execution_count": 123,
   "id": "4e3a7a12-ad1b-44ad-8577-d8e4e17f041b",
   "metadata": {},
   "outputs": [
    {
     "data": {
      "text/plain": [
       "only_pred5_is_correct\n",
       "0    165145\n",
       "1     26650\n",
       "Name: count, dtype: int64"
      ]
     },
     "execution_count": 123,
     "metadata": {},
     "output_type": "execute_result"
    }
   ],
   "source": [
    "new_df[\"only_pred5_is_correct\"].value_counts()"
   ]
  },
  {
   "cell_type": "code",
   "execution_count": 126,
   "id": "b6829d79-6157-4302-b9ed-42ac775cee94",
   "metadata": {},
   "outputs": [],
   "source": [
    "new_test_df = new_df[new_df.split.isin(['test'])]"
   ]
  },
  {
   "cell_type": "code",
   "execution_count": 127,
   "id": "d895890f-e38a-48c5-84d1-5169688db85e",
   "metadata": {},
   "outputs": [
    {
     "data": {
      "text/plain": [
       "only_pred5_is_correct\n",
       "0    27638\n",
       "1     3770\n",
       "Name: count, dtype: int64"
      ]
     },
     "execution_count": 127,
     "metadata": {},
     "output_type": "execute_result"
    }
   ],
   "source": [
    "new_test_df['only_pred5_is_correct'].value_counts()"
   ]
  },
  {
   "cell_type": "code",
   "execution_count": 78,
   "id": "bf3f5fef-be18-4535-b792-6f3f70ef6651",
   "metadata": {},
   "outputs": [
    {
     "data": {
      "text/plain": [
       "(31408, 333)"
      ]
     },
     "execution_count": 78,
     "metadata": {},
     "output_type": "execute_result"
    }
   ],
   "source": [
    "new_test_df.shape"
   ]
  },
  {
   "cell_type": "code",
   "execution_count": 132,
   "id": "284707a1-0127-48e6-9aa9-1ac0340091a3",
   "metadata": {},
   "outputs": [],
   "source": [
    "new_test_df['only_pred5_is_correct'] = new_test_df.apply(\n",
    "    lambda row: (all(row[col] == 0 for col in IS_CORRECT) & (row['pred5_clf_10']==row[to_predict])),\n",
    "    axis=1\n",
    ")\n"
   ]
  },
  {
   "cell_type": "code",
   "execution_count": 133,
   "id": "f871378a-5cfe-476d-9414-b34d46ab4169",
   "metadata": {},
   "outputs": [
    {
     "data": {
      "text/plain": [
       "only_pred5_is_correct\n",
       "False    27638\n",
       "True      3770\n",
       "Name: count, dtype: int64"
      ]
     },
     "execution_count": 133,
     "metadata": {},
     "output_type": "execute_result"
    }
   ],
   "source": [
    "new_test_df['only_pred5_is_correct'].value_counts()"
   ]
  },
  {
   "cell_type": "markdown",
   "id": "d3c68ac7-7ac0-4f55-b97c-eb711cffa7e3",
   "metadata": {},
   "source": [
    "### Question 3: Unique Correct Predictions from a 10-Level Decision Tree Classifier (`pred5_clf_10`)\n",
    "\n",
    "**What is the total number of records in the TEST dataset where the new prediction `pred5_clf_10` is correct, while all 'hand' rule predictions (`pred0` to `pred4`) are incorrect?**\n",
    "\n",
    "\n",
    "To ensure reproducibility, please include the following parameter in the Decision Tree Classifier:\n",
    "```python\n",
    "clf = DecisionTreeClassifier(max_depth=max_depth, random_state=42) \n",
    "```\n",
    "\n",
    "\n",
    "#### Step 1: Train the Decision Tree and Generate Predictions\n",
    "\n",
    "- Initialize a Decision Tree Classifier with a maximum depth of 10 and set `random_state=42` for reproducibility.\n",
    "- Fit the classifier on the combined TRAIN and VALIDATION datasets.\n",
    "- Use the trained model to predict on the entire dataset (TRAIN + VALIDATION + TEST).\n",
    "- Store these predictions in a new column named `pred5_clf_10` within your main dataframe.\n",
    "- **Hint**: When predicting on the entire dataset, it's easy to join the predictions with the full DataFrame, since the number of records and their order remain the same. You will need to define X_all and y_all and apply the same cleaning steps used previously for X_train, y_train, X_test, and y_test. This makes it straightforward to define a new column, for example:  \n",
    "  ```python\n",
    "  df['pred5_clf_10'] = <predictions vector from clf10.predict(X_all)>\n",
    "\n",
    "#### Step 2: Identify Unique Correct Predictions by `pred5_clf_10`\n",
    "\n",
    "- Create a new boolean column, `only_pred5_is_correct`, that is `True` only when:\n",
    "  - The prediction from `pred5_clf_10` is correct (i.e., matches the true label).\n",
    "  - All other hand rule predictions (`pred0` through `pred4`) are incorrect.\n",
    "\n",
    "#### Step 3: Count Unique Correct Predictions on the TEST Set\n",
    "\n",
    "- Convert the `only_pred5_is_correct` column from boolean to integer.\n",
    "- Filter the dataframe for records belonging to the TEST dataset.\n",
    "- Count how many records in the TEST set have `only_pred5_is_correct` equal to 1.\n",
    "- Report this count as your final answer.\n",
    "\n",
    "### Advanced (Optional)\n",
    "\n",
    "- To generalize this for many prediction columns (e.g., `pred0` to `pred99`), define a function that can be applied to an entire dataframe row.\n",
    "- This function should identify whether a specific prediction (`predX`) is uniquely correct (correct while all others are incorrect).\n",
    "- This approach avoids hardcoding conditions for each predictor and scales easily.\n",
    "- For examples of how to apply functions to rows in pandas, see this helpful resource:  \n",
    "  [Pandas apply function to every row](https://sparkbyexamples.com/pandas/pandas-apply-function-to-every-row/)\n",
    "\n",
    "---"
   ]
  },
  {
   "cell_type": "code",
   "execution_count": 201,
   "id": "d9b4c0fe-2161-4723-a9e9-32c4059c4890",
   "metadata": {},
   "outputs": [
    {
     "name": "stdout",
     "output_type": "stream",
     "text": [
      "Maximum depth of the decision tree: 1\n",
      "Accuracy =0.5410404992358635, precision = 0.5465816507261778\n",
      "Maximum depth of the decision tree: 2\n",
      "Accuracy =0.5510697911360163, precision = 0.5510697911360163\n",
      "Maximum depth of the decision tree: 3\n",
      "Accuracy =0.5510697911360163, precision = 0.5510697911360163\n",
      "Maximum depth of the decision tree: 4\n",
      "Accuracy =0.5510697911360163, precision = 0.5510697911360163\n",
      "Maximum depth of the decision tree: 5\n",
      "Accuracy =0.5991467142129394, precision = 0.627845220030349\n",
      "Maximum depth of the decision tree: 6\n",
      "Accuracy =0.5498599083036169, precision = 0.5691415110800907\n",
      "Maximum depth of the decision tree: 7\n",
      "Accuracy =0.5701732042791645, precision = 0.5938485804416404\n",
      "Maximum depth of the decision tree: 8\n",
      "Accuracy =0.5762226184411615, precision = 0.5897136702270891\n",
      "Maximum depth of the decision tree: 9\n",
      "Accuracy =0.5642193071828834, precision = 0.5915457349446327\n",
      "Maximum depth of the decision tree: 10\n",
      "Accuracy =0.5571510443199185, precision = 0.5889278426037361\n",
      "Maximum depth of the decision tree: 11\n",
      "Accuracy =0.5625318390219053, precision = 0.5947726306842329\n",
      "Maximum depth of the decision tree: 12\n",
      "Accuracy =0.5486500254712176, precision = 0.5788757932910245\n",
      "Maximum depth of the decision tree: 13\n",
      "Accuracy =0.5547631176770249, precision = 0.5828431861230187\n",
      "Maximum depth of the decision tree: 14\n",
      "Accuracy =0.5421230259806419, precision = 0.57773410527434\n",
      "Maximum depth of the decision tree: 15\n",
      "Accuracy =0.5488728986245542, precision = 0.5854521696520935\n",
      "Maximum depth of the decision tree: 16\n",
      "Accuracy =0.5448293428425879, precision = 0.5904395868364161\n",
      "Maximum depth of the decision tree: 17\n",
      "Accuracy =0.5534577177789098, precision = 0.5885812962063569\n",
      "Maximum depth of the decision tree: 18\n",
      "Accuracy =0.546262098828324, precision = 0.585290999386195\n",
      "Maximum depth of the decision tree: 19\n",
      "Accuracy =0.5367740703005603, precision = 0.5856247284464031\n",
      "Maximum depth of the decision tree: 20\n",
      "Accuracy =0.5419319918492104, precision = 0.5811975315505643\n",
      "CPU times: user 6min 6s, sys: 6.82 s, total: 6min 13s\n",
      "Wall time: 6min 13s\n"
     ]
    }
   ],
   "source": [
    "%%time\n",
    "\n",
    "accuracies = []\n",
    "precisions = []\n",
    "for i in range(1, 21):\n",
    "    clf, _ = fit_decision_tree(X=X_train_imputed.drop(['Date','Ticker'],axis=1), y=y_train, max_depth=i)\n",
    "    pred, accuracy, precision = predict_decision_tree(clf, X_test_imputed.drop(['Date','Ticker'],axis=1), y_test)\n",
    "    accuracies.append([i, accuracy])\n",
    "    precisions.append([i, precision])\n"
   ]
  },
  {
   "cell_type": "code",
   "execution_count": 202,
   "id": "4b1bc2b4-aaf5-4677-b545-62defbbf0aaf",
   "metadata": {},
   "outputs": [
    {
     "name": "stdout",
     "output_type": "stream",
     "text": [
      "Maximum depth of the decision tree: 1\n",
      "Accuracy =0.5981490654083788, precision = 0.6052636113520313\n",
      "Maximum depth of the decision tree: 2\n",
      "Accuracy =0.603316040564144, precision = 0.6015046109043845\n",
      "Maximum depth of the decision tree: 3\n",
      "Accuracy =0.6083943794155218, precision = 0.6059595017285847\n",
      "Maximum depth of the decision tree: 4\n",
      "Accuracy =0.6102140306055945, precision = 0.6073287758013782\n",
      "Maximum depth of the decision tree: 5\n",
      "Accuracy =0.63493313172919, precision = 0.6501869261641652\n",
      "Maximum depth of the decision tree: 6\n",
      "Accuracy =0.6358038530722907, precision = 0.6433776673964903\n",
      "Maximum depth of the decision tree: 7\n",
      "Accuracy =0.652634323105399, precision = 0.6518481743918401\n",
      "Maximum depth of the decision tree: 8\n",
      "Accuracy =0.6677859172554029, precision = 0.6705546119898776\n",
      "Maximum depth of the decision tree: 9\n",
      "Accuracy =0.6782085038713209, precision = 0.6783441237792165\n",
      "Maximum depth of the decision tree: 10\n",
      "Accuracy =0.6958314867436586, precision = 0.6950666328571831\n",
      "Maximum depth of the decision tree: 11\n",
      "Accuracy =0.7097526004327537, precision = 0.7099412751677853\n",
      "Maximum depth of the decision tree: 12\n",
      "Accuracy =0.7277561980239318, precision = 0.7337203912121649\n",
      "Maximum depth of the decision tree: 13\n",
      "Accuracy =0.7460934852316276, precision = 0.739768151851688\n",
      "Maximum depth of the decision tree: 14\n",
      "Accuracy =0.7604577804426601, precision = 0.7576379544953514\n",
      "Maximum depth of the decision tree: 15\n",
      "Accuracy =0.7756875830965354, precision = 0.7691025348253026\n",
      "Maximum depth of the decision tree: 16\n",
      "Accuracy =0.7911103000599599, precision = 0.7974463755007107\n",
      "Maximum depth of the decision tree: 17\n",
      "Accuracy =0.8087489246330718, precision = 0.8091023614465566\n",
      "Maximum depth of the decision tree: 18\n",
      "Accuracy =0.8230037279386845, precision = 0.8274811792425723\n",
      "Maximum depth of the decision tree: 19\n",
      "Accuracy =0.8354388800542245, precision = 0.8433571810644558\n",
      "Maximum depth of the decision tree: 20\n",
      "Accuracy =0.8515341901509424, precision = 0.8518668328641831\n",
      "CPU times: user 6min 9s, sys: 14.7 s, total: 6min 24s\n",
      "Wall time: 6min 24s\n"
     ]
    }
   ],
   "source": [
    "%%time\n",
    "\n",
    "accuracies_full = []\n",
    "precisions_full = []\n",
    "for i in range(1, 21):\n",
    "    clf, _ = fit_decision_tree(X=X_train_imputed.drop(['Date','Ticker'],axis=1), y=y_train, max_depth=i)\n",
    "    pred, accuracy, precision = predict_decision_tree(clf, X_full.drop(['Date','Ticker'],axis=1), y_full)\n",
    "    accuracies_full.append([i, accuracy])\n",
    "    precisions_full.append([i, precision])"
   ]
  },
  {
   "cell_type": "code",
   "execution_count": 187,
   "id": "f517a588-8ee5-48f6-a2dd-52bba87b22c5",
   "metadata": {},
   "outputs": [
    {
     "data": {
      "text/plain": [
       "[[5, 0.627845220030349],\n",
       " [11, 0.5947726306842329],\n",
       " [7, 0.5938485804416404],\n",
       " [9, 0.5915457349446327],\n",
       " [16, 0.5904395868364161],\n",
       " [8, 0.5897136702270891],\n",
       " [10, 0.5889278426037361],\n",
       " [17, 0.5885812962063569],\n",
       " [19, 0.5856247284464031],\n",
       " [15, 0.5854521696520935],\n",
       " [18, 0.585290999386195],\n",
       " [13, 0.5828431861230187],\n",
       " [20, 0.5811975315505643],\n",
       " [12, 0.5788757932910245],\n",
       " [14, 0.57773410527434],\n",
       " [6, 0.5691415110800907],\n",
       " [2, 0.5510697911360163],\n",
       " [3, 0.5510697911360163],\n",
       " [4, 0.5510697911360163],\n",
       " [1, 0.5465816507261778]]"
      ]
     },
     "execution_count": 187,
     "metadata": {},
     "output_type": "execute_result"
    }
   ],
   "source": [
    "sorted_precisions = sorted(precisions, key=lambda x: x[1], reverse=True)\n",
    "sorted_precisions"
   ]
  },
  {
   "cell_type": "code",
   "execution_count": 203,
   "id": "692b4601-5bb9-45c1-819b-1adefad01247",
   "metadata": {},
   "outputs": [
    {
     "data": {
      "text/plain": [
       "[[20, 0.8518668328641831],\n",
       " [19, 0.8433571810644558],\n",
       " [18, 0.8274811792425723],\n",
       " [17, 0.8091023614465566],\n",
       " [16, 0.7974463755007107],\n",
       " [15, 0.7691025348253026],\n",
       " [14, 0.7576379544953514],\n",
       " [13, 0.739768151851688],\n",
       " [12, 0.7337203912121649],\n",
       " [11, 0.7099412751677853],\n",
       " [10, 0.6950666328571831],\n",
       " [9, 0.6783441237792165],\n",
       " [8, 0.6705546119898776],\n",
       " [7, 0.6518481743918401],\n",
       " [5, 0.6501869261641652],\n",
       " [6, 0.6433776673964903],\n",
       " [4, 0.6073287758013782],\n",
       " [3, 0.6059595017285847],\n",
       " [1, 0.6052636113520313],\n",
       " [2, 0.6015046109043845]]"
      ]
     },
     "execution_count": 203,
     "metadata": {},
     "output_type": "execute_result"
    }
   ],
   "source": [
    "sorted(precisions_full, key=lambda x: x[1], reverse=True)"
   ]
  },
  {
   "cell_type": "code",
   "execution_count": 199,
   "id": "f23ed846-47b0-4242-aa58-a9edf1a11a5d",
   "metadata": {},
   "outputs": [],
   "source": [
    "clf_5, _ = fit_decision_tree(X=X_train_imputed.drop(['Date','Ticker'],axis=1), y=y_train, max_depth=5)"
   ]
  },
  {
   "cell_type": "code",
   "execution_count": 200,
   "id": "5f39dd9c-4f3c-4b5e-bb32-a2aff48faa5b",
   "metadata": {},
   "outputs": [
    {
     "name": "stdout",
     "output_type": "stream",
     "text": [
      "Maximum depth of the decision tree: 5\n",
      "Accuracy =0.63493313172919, precision = 0.6501869261641652\n"
     ]
    }
   ],
   "source": [
    "pred5, _, _ = predict_decision_tree(clf_5, X_full.drop(['Date','Ticker'],axis=1), y_full)"
   ]
  },
  {
   "cell_type": "code",
   "execution_count": 190,
   "id": "d24554b8-1a32-4abc-9224-983cc45102e5",
   "metadata": {},
   "outputs": [],
   "source": [
    "new_df['pred6_clf_best'] = pred5['pred_']"
   ]
  },
  {
   "cell_type": "code",
   "execution_count": 193,
   "id": "ff42df53-9831-49f5-9eb3-963de289fbab",
   "metadata": {},
   "outputs": [
    {
     "name": "stdout",
     "output_type": "stream",
     "text": [
      "Maximum depth of the decision tree: 20\n",
      "Accuracy =0.8515341901509424, precision = 0.8518668328641831\n"
     ]
    }
   ],
   "source": [
    "clf_20, _ = fit_decision_tree(X=X_train_imputed.drop(['Date','Ticker'],axis=1),\n",
    "                           y=y_train,\n",
    "                           max_depth=20)\n",
    "pred20, _, _ = predict_decision_tree(clf_20, X_full.drop(['Date','Ticker'],axis=1), y_full)\n",
    "new_df['pred7_clf_best'] = pred20['pred_']\n"
   ]
  },
  {
   "cell_type": "code",
   "execution_count": 196,
   "id": "961202c8-9796-4d29-a4f0-e237de608f9a",
   "metadata": {},
   "outputs": [],
   "source": [
    "new_df['pred7_clf_20'] = pred20['pred_']"
   ]
  },
  {
   "cell_type": "code",
   "execution_count": 194,
   "id": "7b5ab511-2ec4-468d-be6d-26672f251dd6",
   "metadata": {},
   "outputs": [
    {
     "name": "stdout",
     "output_type": "stream",
     "text": [
      "Maximum depth of the decision tree: 15\n",
      "Accuracy =0.7756875830965354, precision = 0.7691025348253026\n"
     ]
    }
   ],
   "source": [
    "clf_15, _ = fit_decision_tree(X=X_train_imputed.drop(['Date','Ticker'],axis=1),\n",
    "                           y=y_train,\n",
    "                           max_depth=15)\n",
    "pred15, _, _ = predict_decision_tree(clf_15, X_full.drop(['Date','Ticker'],axis=1), y_full)\n",
    "new_df['pred8_clf_best'] = pred15['pred_']\n"
   ]
  },
  {
   "cell_type": "code",
   "execution_count": 197,
   "id": "39e3311f-ac0a-492e-aa41-66abf2dafe89",
   "metadata": {},
   "outputs": [],
   "source": [
    "new_df['pred8_clf_15'] = pred15['pred_']"
   ]
  },
  {
   "cell_type": "code",
   "execution_count": 191,
   "id": "af6fc932-8c87-464e-a403-d80a5bd8957c",
   "metadata": {},
   "outputs": [],
   "source": [
    "def show_precisions_pred():\n",
    "    predictions = [k for k in new_df.keys() if k.startswith('pred')]\n",
    "    \n",
    "    for pred in predictions:\n",
    "      part1 = pred.split('_')[0]\n",
    "      new_df[f'is_correct_{part1}'] =  (new_df[pred] == new_df.is_positive_growth_30d_future).astype(int)\n",
    "\n",
    "    is_correct =  [k for k in new_df.keys() if k.startswith('is_correct_')]\n",
    "    \n",
    "    for i,column in enumerate(is_correct):\n",
    "      prediction_column = predictions[i]\n",
    "      is_correct_column = column\n",
    "      filter = (new_df[prediction_column]==1)\n",
    "      print(f'Prediction column:{prediction_column} , is_correct_column: {is_correct_column}')\n",
    "      print(new_df[filter][is_correct_column].value_counts())\n",
    "      print((new_df[filter][is_correct_column].value_counts()/len(new_df[filter])).round(3))\n",
    "    \n",
    "      print('---------')"
   ]
  },
  {
   "cell_type": "code",
   "execution_count": 198,
   "id": "126dc5e6-319b-4956-ac71-3abd6f5158de",
   "metadata": {},
   "outputs": [
    {
     "name": "stdout",
     "output_type": "stream",
     "text": [
      "Prediction column:pred3_manual_dgs10_5 , is_correct_column: is_correct_pred3\n",
      "is_correct_pred3\n",
      "1    17761\n",
      "0     8477\n",
      "Name: count, dtype: int64\n",
      "is_correct_pred3\n",
      "1    0.677\n",
      "0    0.323\n",
      "Name: count, dtype: float64\n",
      "---------\n",
      "Prediction column:pred4_manual_dgs10_fedfunds , is_correct_column: is_correct_pred4\n",
      "is_correct_pred4\n",
      "1    19545\n",
      "0    16726\n",
      "Name: count, dtype: int64\n",
      "is_correct_pred4\n",
      "1    0.539\n",
      "0    0.461\n",
      "Name: count, dtype: float64\n",
      "---------\n",
      "Prediction column:pred0_manual_cci , is_correct_column: is_correct_pred0\n",
      "is_correct_pred0\n",
      "1    2986\n",
      "0    2122\n",
      "Name: count, dtype: int64\n",
      "is_correct_pred0\n",
      "1    0.585\n",
      "0    0.415\n",
      "Name: count, dtype: float64\n",
      "---------\n",
      "Prediction column:pred1_manual_prev_g1 , is_correct_column: is_correct_pred1\n",
      "is_correct_pred1\n",
      "1    66488\n",
      "0    47596\n",
      "Name: count, dtype: int64\n",
      "is_correct_pred1\n",
      "1    0.583\n",
      "0    0.417\n",
      "Name: count, dtype: float64\n",
      "---------\n",
      "Prediction column:pred2_manual_prev_g1_and_snp , is_correct_column: is_correct_pred2\n",
      "is_correct_pred2\n",
      "1    50829\n",
      "0    36637\n",
      "Name: count, dtype: int64\n",
      "is_correct_pred2\n",
      "1    0.581\n",
      "0    0.419\n",
      "Name: count, dtype: float64\n",
      "---------\n",
      "Prediction column:pred5_clf_10 , is_correct_column: is_correct_pred5\n",
      "is_correct_pred5\n",
      "1    98680\n",
      "0    43292\n",
      "Name: count, dtype: int64\n",
      "is_correct_pred5\n",
      "1    0.695\n",
      "0    0.305\n",
      "Name: count, dtype: float64\n",
      "---------\n",
      "Prediction column:pred6_clf_best , is_correct_column: is_correct_pred6\n",
      "is_correct_pred6\n",
      "1    94610\n",
      "0    50902\n",
      "Name: count, dtype: int64\n",
      "is_correct_pred6\n",
      "1    0.65\n",
      "0    0.35\n",
      "Name: count, dtype: float64\n",
      "---------\n",
      "Prediction column:pred7_clf_best , is_correct_column: is_correct_pred7\n",
      "is_correct_pred7\n",
      "1    103196\n",
      "0     17945\n",
      "Name: count, dtype: int64\n",
      "is_correct_pred7\n",
      "1    0.852\n",
      "0    0.148\n",
      "Name: count, dtype: float64\n",
      "---------\n",
      "Prediction column:pred8_clf_best , is_correct_column: is_correct_pred8\n",
      "is_correct_pred8\n",
      "1    101037\n",
      "0     30333\n",
      "Name: count, dtype: int64\n",
      "is_correct_pred8\n",
      "1    0.769\n",
      "0    0.231\n",
      "Name: count, dtype: float64\n",
      "---------\n"
     ]
    }
   ],
   "source": [
    "show_precisions_pred()"
   ]
  },
  {
   "cell_type": "code",
   "execution_count": null,
   "id": "061beec6-c219-49b9-864d-c03574de596c",
   "metadata": {},
   "outputs": [],
   "source": []
  }
 ],
 "metadata": {
  "kernelspec": {
   "display_name": "Python 3 (ipykernel)",
   "language": "python",
   "name": "python3"
  },
  "language_info": {
   "codemirror_mode": {
    "name": "ipython",
    "version": 3
   },
   "file_extension": ".py",
   "mimetype": "text/x-python",
   "name": "python",
   "nbconvert_exporter": "python",
   "pygments_lexer": "ipython3",
   "version": "3.10.4"
  }
 },
 "nbformat": 4,
 "nbformat_minor": 5
}
